{
 "cells": [
  {
   "cell_type": "code",
   "execution_count": 4,
   "metadata": {},
   "outputs": [],
   "source": [
    "# TO IMPORT FROM ONE IPYNB TO ANOTHER \n",
    "from nbformat import read\n",
    "import json\n",
    "\n",
    "# Read the notebook\n",
    "with open('../Shared Components/base_exercises.ipynb', 'r', encoding='utf-8') as f:\n",
    "    nb = read(f, as_version=4)\n",
    "\n",
    "# Extract the code cells\n",
    "cells = nb.cells\n",
    "\n",
    "# Execute the code cells\n",
    "for cell in cells:\n",
    "    if cell.cell_type == 'code':\n",
    "        exec(cell.source)\n"
   ]
  },
  {
   "cell_type": "code",
   "execution_count": 5,
   "metadata": {},
   "outputs": [],
   "source": [
    "pull_up = BaseExercise(\n",
    "    \"Squats\",\n",
    "    \"Lower Body Strengthening Movement\",\n",
    "    30,\n",
    "    \"medium\",\n",
    "    [\"quadriceps\", \"hamstrings\", \"glutes\"],\n",
    "    \"1. Stand with your feet shoulder-width apart.\\n2. Lower your body by bending your knees and hips.\\n3. Keep your chest upright and your back straight.\\n4. Return to the starting position by pushing through your heels.\",\n",
    "    \"../Shared Components/Assets/squat.png\"  # Path to the image file\n",
    ")"
   ]
  },
  {
   "cell_type": "code",
   "execution_count": 7,
   "metadata": {},
   "outputs": [
    {
     "name": "stdout",
     "output_type": "stream",
     "text": [
      "1. Stand with your feet shoulder-width apart.\n",
      "2. Lower your body by bending your knees and hips.\n",
      "3. Keep your chest upright and your back straight.\n",
      "4. Return to the starting position by pushing through your heels.\n"
     ]
    }
   ],
   "source": [
    "print(pull_up.instructions)"
   ]
  },
  {
   "cell_type": "code",
   "execution_count": null,
   "metadata": {},
   "outputs": [],
   "source": []
  }
 ],
 "metadata": {
  "kernelspec": {
   "display_name": "base",
   "language": "python",
   "name": "python3"
  },
  "language_info": {
   "codemirror_mode": {
    "name": "ipython",
    "version": 3
   },
   "file_extension": ".py",
   "mimetype": "text/x-python",
   "name": "python",
   "nbconvert_exporter": "python",
   "pygments_lexer": "ipython3",
   "version": "3.11.7"
  }
 },
 "nbformat": 4,
 "nbformat_minor": 2
}
