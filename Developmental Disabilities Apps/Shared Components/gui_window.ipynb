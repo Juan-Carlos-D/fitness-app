{
 "cells": [
  {
   "cell_type": "code",
   "execution_count": 8,
   "metadata": {},
   "outputs": [
    {
     "name": "stdout",
     "output_type": "stream",
     "text": [
      "Perform as many Push-Ups for 30 seconds!\n"
     ]
    }
   ],
   "source": [
    "import tkinter as tk\n",
    "%run ./base_exercises.ipynb\n",
    "\n",
    "# Create a function to display exercise details in a window\n",
    "def display_exercise_details(exercise):\n",
    "    # Create a Tkinter window\n",
    "    window = tk.Tk()\n",
    "    window.title(\"Exercise Details\")\n",
    "\n",
    "    # Create labels to display exercise details\n",
    "    tk.Label(window, text=\"Name:\").grid(row=0, column=0, sticky=\"w\")\n",
    "    tk.Label(window, text=exercise.name).grid(row=0, column=1, sticky=\"w\")\n",
    "\n",
    "    tk.Label(window, text=\"Description:\").grid(row=1, column=0, sticky=\"w\")\n",
    "    tk.Label(window, text=exercise.description).grid(row=1, column=1, sticky=\"w\")\n",
    "\n",
    "    tk.Label(window, text=\"Difficulty:\").grid(row=2, column=0, sticky=\"w\")\n",
    "    tk.Label(window, text=exercise.difficulty).grid(row=2, column=1, sticky=\"w\")\n",
    "\n",
    "    tk.Label(window, text=\"Instructions:\").grid(row=3, column=0, sticky=\"w\")\n",
    "    instructions_text = tk.Text(window, height=6, width=40)\n",
    "    instructions_text.insert(tk.END, exercise.instructions)\n",
    "    instructions_text.grid(row=3, column=1, sticky=\"w\")\n",
    "\n",
    "    # Run the Tkinter event loop\n",
    "    window.mainloop()\n",
    "\n",
    "# Example usage\n",
    "push_up = BaseExercise(\n",
    "    \"Push-Ups\",\n",
    "    \"Upper Body Strengthening Movement\",\n",
    "    30,\n",
    "    \"medium\",\n",
    "    [\"chest\", \"triceps\", \"shoulders\"],\n",
    "    \"1. Place your hands on the floor.\\n2. Keep your body straight.\\n3. Bend your elbows to lower your chest towards the ground.\\n4. Then push back up\"\n",
    ")\n",
    "\n",
    "display_exercise_details(push_up)\n",
    "\n"
   ]
  },
  {
   "cell_type": "code",
   "execution_count": null,
   "metadata": {},
   "outputs": [],
   "source": []
  }
 ],
 "metadata": {
  "kernelspec": {
   "display_name": "base",
   "language": "python",
   "name": "python3"
  },
  "language_info": {
   "codemirror_mode": {
    "name": "ipython",
    "version": 3
   },
   "file_extension": ".py",
   "mimetype": "text/x-python",
   "name": "python",
   "nbconvert_exporter": "python",
   "pygments_lexer": "ipython3",
   "version": "3.11.7"
  }
 },
 "nbformat": 4,
 "nbformat_minor": 2
}
