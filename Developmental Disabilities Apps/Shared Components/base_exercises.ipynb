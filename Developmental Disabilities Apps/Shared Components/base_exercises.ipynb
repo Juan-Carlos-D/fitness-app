{
 "cells": [
  {
   "cell_type": "code",
   "execution_count": 19,
   "metadata": {},
   "outputs": [],
   "source": [
    "class BaseExercise:\n",
    "    def __init__(self, name, description, duration, difficulty, muscle_groups, instructions):\n",
    "        self.name = name \n",
    "        self.description = description\n",
    "        self.duration = duration\n",
    "        self.difficulty = difficulty\n",
    "        self.muscle_groups = muscle_groups\n",
    "        self.instructions = instructions\n",
    "        \n",
    "    def perform(self):\n",
    "        print(\"Perform as many \" + self.name + \" for \" + str(self.duration) + \" seconds!\") \n",
    "    def get_details(self):\n",
    "        pass\n",
    "    def modify_duration(self, new_duration):\n",
    "        pass\n",
    "    def update_difficulty(self, new_difficulty):\n",
    "        pass"
   ]
  },
  {
   "cell_type": "code",
   "execution_count": 20,
   "metadata": {},
   "outputs": [
    {
     "name": "stdout",
     "output_type": "stream",
     "text": [
      "Push-Ups\n",
      "Upper Body Strengthening Movement\n",
      "30\n",
      "medium\n",
      "['chest', 'triceps', 'shoulders']\n",
      "Instructions:\n",
      "1. Place your hands on the floor.\n",
      "2. Keep your body straight.\n",
      "3. Bend your elbows to lower your chest towards the ground.\n",
      "4. Then push back up\n"
     ]
    }
   ],
   "source": [
    "# Exercise objects!\n",
    "push_up = BaseExercise(\"Push-Ups\", \n",
    "                       \"Upper Body Strengthening Movement\",\n",
    "                       30,\n",
    "                       \"medium\",\n",
    "                       [\"chest\", \"triceps\", \"shoulders\"],\n",
    "                       \"Instructions:\\n1. Place your hands on the floor.\\n2. Keep your body straight.\\n3. Bend your elbows to lower your chest towards the ground.\\n4. Then push back up\"\n",
    "                       )\n",
    "print(push_up.name)\n",
    "print(push_up.description)\n",
    "print(push_up.duration)\n",
    "print(push_up.difficulty)\n",
    "print(push_up.muscle_groups)\n",
    "print(push_up.instructions)"
   ]
  },
  {
   "cell_type": "code",
   "execution_count": 21,
   "metadata": {},
   "outputs": [
    {
     "name": "stdout",
     "output_type": "stream",
     "text": [
      "Perform as many Push-Ups for 30 seconds!\n"
     ]
    }
   ],
   "source": [
    "push_up.perform()"
   ]
  },
  {
   "cell_type": "code",
   "execution_count": null,
   "metadata": {},
   "outputs": [],
   "source": []
  }
 ],
 "metadata": {
  "kernelspec": {
   "display_name": "base",
   "language": "python",
   "name": "python3"
  },
  "language_info": {
   "codemirror_mode": {
    "name": "ipython",
    "version": 3
   },
   "file_extension": ".py",
   "mimetype": "text/x-python",
   "name": "python",
   "nbconvert_exporter": "python",
   "pygments_lexer": "ipython3",
   "version": "3.11.7"
  }
 },
 "nbformat": 4,
 "nbformat_minor": 2
}
