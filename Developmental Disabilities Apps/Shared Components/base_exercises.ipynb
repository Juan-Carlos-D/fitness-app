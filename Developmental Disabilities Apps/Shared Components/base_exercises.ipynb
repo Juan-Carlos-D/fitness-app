{
 "cells": [
  {
   "cell_type": "code",
   "execution_count": 24,
   "metadata": {},
   "outputs": [],
   "source": [
    "class BaseExercise:\n",
    "    def __init__(self, name, description, duration, difficulty, muscle_groups, instructions, image_path):\n",
    "        self.name = name \n",
    "        self.description = description\n",
    "        self.duration = duration\n",
    "        self.difficulty = difficulty\n",
    "        self.muscle_groups = muscle_groups\n",
    "        self.instructions = instructions\n",
    "        self.image_path = image_path\n",
    "        \n",
    "    def perform(self):\n",
    "        print(\"Perform as many \" + self.name + \" for \" + str(self.duration) + \" seconds!\") \n",
    "        \n",
    "    def get_details(self):\n",
    "        details = f\"Exercise Details:\\n\"\n",
    "        details += f\"Name: {self.name}\\n\"\n",
    "        details += f\"Description: {self.description}\\n\"\n",
    "        details += f\"Difficulty: {self.difficulty}\\n\"\n",
    "        details += f\"Instructions:\\n{self.instructions}\"\n",
    "        return details\n",
    "        \n",
    "        \n",
    "    def modify_duration(self, new_duration):\n",
    "        pass\n",
    "    \n",
    "    def update_difficulty(self, new_difficulty):\n",
    "        pass"
   ]
  },
  {
   "cell_type": "code",
   "execution_count": null,
   "metadata": {},
   "outputs": [],
   "source": []
  }
 ],
 "metadata": {
  "kernelspec": {
   "display_name": "base",
   "language": "python",
   "name": "python3"
  },
  "language_info": {
   "codemirror_mode": {
    "name": "ipython",
    "version": 3
   },
   "file_extension": ".py",
   "mimetype": "text/x-python",
   "name": "python",
   "nbconvert_exporter": "python",
   "pygments_lexer": "ipython3",
   "version": "3.11.7"
  }
 },
 "nbformat": 4,
 "nbformat_minor": 2
}
