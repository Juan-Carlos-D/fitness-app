{
 "cells": [
  {
   "cell_type": "markdown",
   "metadata": {},
   "source": [
    "# **Documentation for Fitness App**\n",
    "- This documentation will serve as a collection of my thoughts/ideas and the structure of my app\n",
    "- Certain things may be added/removed during the project, but they will be addressed when it occurs :) \n",
    "- Lastly, I am excited to work on this big project :D "
   ]
  },
  {
   "cell_type": "markdown",
   "metadata": {},
   "source": [
    "## **What is the objective for creating this app?**\n",
    "### **`Objective`**: \n",
    "* To create an *accessible* and *user-friendly* fitness app for individuals with *developmental disabilities*\n",
    "* To enhance the *physical health and well-being* of individuals with developmental disabilities\n",
    "* To offer *tailored fitness routines* and *supportive features* that accomodate diverse abilities, ensuring an *inclusive* and *empowering* fitness experience for all users"
   ]
  },
  {
   "cell_type": "markdown",
   "metadata": {},
   "source": [
    "## **What is a developmental disability?**\n",
    "### **`Developmental Disability`**:\n",
    "* A group of conditions due to an *impairment* in physical, learning, language, or behavior areas.\n",
    "* Manifests during the developmental period, typically before the age of 22\n",
    "* Can impact day-to-day functionining throughout a person's life\n",
    "* Can be caused by a complex interplay of genetic, environmental, and unknown factors\n",
    "* Range of severity can range from mild to severe, affecting the degree of independence and support needed\n",
    "\n",
    "* For the purpose of this project I will be focusing on three developmental disabilities:\n",
    "    1) `Autism`\n",
    "    2) `Down Syndrome`\n",
    "    3) `Cerebal Palsy`"
   ]
  },
  {
   "cell_type": "markdown",
   "metadata": {},
   "source": [
    "## **Autism**\n",
    "- ### **`Autism`**: \n",
    "    - characterized by difficulties in social interaction, communication, and repetitive behaviors\n",
    "    \n",
    "    **1) `Sensory sensitivities`:**\n",
    "    - Individuals with autism may have heightened sensitivity to visual, auditory, or tactile stimuli\n",
    "    - Overly bright colors, loud sounds, or certain textures might be overwhelming\n",
    "\n",
    "   **2) `Difficulty with change`:**\n",
    "    - People w/ autism often prefer routine & may struggle w/ changes in their day-to-day lives\n",
    "\n",
    "    **3) `Communication Barriers`:**\n",
    "    - Some individuals wih autism may have difficulty understanding complex instruction or may be non-verbal, necessitating clear, simple, and visual instructions\n",
    "\n",
    "    **4) `Social Interactions`:**\n",
    "    - Group activities/social features might be challenging; they might prefer solo exercises/activities or features that reduce social pressure"
   ]
  },
  {
   "cell_type": "markdown",
   "metadata": {},
   "source": [
    "## **Down Syndrome**\n",
    "- ### **`Down Syndrome`**: \n",
    "    - a genetic disorder caused by the presence of an extra choromosome 21, leading to physical growth delays, characteristic facial features, & intellectual disabilities\n",
    "    \n",
    "    **1) `Cognitive Challenges`:**\n",
    "    - Individuals with DS might face intellectual disabilities requiring simplified instructions & interfaces\n",
    "\n",
    "   **2) `Motor Skills`:**\n",
    "    - They might have hypotonia (low muscle tone) and joint flexibility, requiring tailored exercises that are safe & effective\n",
    "\n",
    "    **3) `Attention Span`:**\n",
    "    - Shorter attention spans may necessitate engaging & straightforward routines\n",
    "\n",
    "    **4) `Health Issues`:**\n",
    "    - Common health issues such as heart conditions may require specific considerations & modifications in exercise programs"
   ]
  },
  {
   "cell_type": "markdown",
   "metadata": {},
   "source": []
  }
 ],
 "metadata": {
  "kernelspec": {
   "display_name": "base",
   "language": "python",
   "name": "python3"
  },
  "language_info": {
   "name": "python",
   "version": "3.11.7"
  }
 },
 "nbformat": 4,
 "nbformat_minor": 2
}
