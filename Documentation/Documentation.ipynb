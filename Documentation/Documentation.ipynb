{
 "cells": [
  {
   "cell_type": "markdown",
   "metadata": {},
   "source": [
    "# **Documentation for Fitness App**\n",
    "- This documentation will serve as a collection of my thoughts/ideas and the structure of my app\n",
    "- Certain things may be added/removed during the project, but they will be addressed when it occurs :) \n",
    "- Lastly, I am excited to work on this big project :D "
   ]
  },
  {
   "cell_type": "markdown",
   "metadata": {},
   "source": [
    "## **What is the objective for creating this app?**\n",
    "### **`Objective`**: \n",
    "* To create an *accessible* and *user-friendly* fitness app for individuals with *developmental disabilities*\n",
    "* To enhance the *physical health and well-being* of individuals with developmental disabilities\n",
    "* To offer *tailored fitness routines* and *supportive features* that accomodate diverse abilities, ensuring an *inclusive* and *empowering* fitness experience for all users"
   ]
  },
  {
   "cell_type": "markdown",
   "metadata": {},
   "source": [
    "## What is a developmental disability?\n",
    "### **`Developmental Disability`**:\n",
    "* A group of conditions due to an *impairment* in physical, learning, language, or behavior areas.\n",
    "* Manifest during the developmental period, typically before the age of 22\n",
    "* Can impact day-to-day functionining throughout a person's life\n",
    "* Can be caused by a complex interplay of genetic, environmental, and unknown factors\n",
    "* Range of severity can range from mild to severe, affecting the degree of independence and support needed\n",
    "\n",
    "* For the purpose of this project I will be focusing on three developmental disabilities:\n",
    "1) `Autism`\n",
    "2) `Down Syndrome`\n",
    "3) `Cerebal Palsy`"
   ]
  },
  {
   "cell_type": "markdown",
   "metadata": {},
   "source": []
  }
 ],
 "metadata": {
  "kernelspec": {
   "display_name": "base",
   "language": "python",
   "name": "python3"
  },
  "language_info": {
   "name": "python",
   "version": "3.11.7"
  }
 },
 "nbformat": 4,
 "nbformat_minor": 2
}
